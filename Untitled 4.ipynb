{
 "cells": [
  {
   "cell_type": "markdown",
   "id": "63fb4c0d-12fa-40b3-af31-36137ba56966",
   "metadata": {},
   "source": [
    "Array Creation in NumPy"
   ]
  },
  {
   "cell_type": "code",
   "execution_count": null,
   "id": "a08e4859-169d-4d04-b01a-2f62e43819c9",
   "metadata": {},
   "outputs": [],
   "source": [
    "#Name: Apurva Ravikant Wankhade\n",
    "#Roll No.:64\n",
    "#Sec: B\n",
    "#Subject:ET - 1"
   ]
  },
  {
   "cell_type": "code",
   "execution_count": 4,
   "id": "413d1c05-a435-4e44-95ec-c66d89a4608a",
   "metadata": {},
   "outputs": [],
   "source": [
    "\n",
    "EXP : 5"
   ]
  },
  {
   "cell_type": "code",
   "execution_count": 6,
   "id": "cc81c735-a9ed-4fde-9926-60b547262dfc",
   "metadata": {},
   "outputs": [],
   "source": [
    "#Aim : Creating Array using Numpy"
   ]
  },
  {
   "cell_type": "code",
   "execution_count": 8,
   "id": "4d7774af-962e-48d7-9d28-a2e4c9656e9b",
   "metadata": {},
   "outputs": [],
   "source": [
    "import numpy as np"
   ]
  },
  {
   "cell_type": "code",
   "execution_count": 10,
   "id": "c05d3654-363a-4ad9-8e08-649e596b4141",
   "metadata": {},
   "outputs": [
    {
     "name": "stdout",
     "output_type": "stream",
     "text": [
      "[1 2 3 4 5]\n"
     ]
    }
   ],
   "source": [
    "array_1d = np.array([1, 2, 3, 4, 5])\n",
    "print(array_1d)\n"
   ]
  },
  {
   "cell_type": "code",
   "execution_count": 12,
   "id": "5c3e7866-a56d-48d8-9baf-825803a79897",
   "metadata": {},
   "outputs": [
    {
     "name": "stdout",
     "output_type": "stream",
     "text": [
      "[[1 2 3]\n",
      " [4 5 6]]\n"
     ]
    }
   ],
   "source": [
    "array_2d = np.array([[1, 2, 3], [4, 5, 6]])\n",
    "print(array_2d)"
   ]
  },
  {
   "cell_type": "code",
   "execution_count": 14,
   "id": "e6259c01-5018-4fc3-95ff-06a9c201e4b8",
   "metadata": {},
   "outputs": [
    {
     "name": "stdout",
     "output_type": "stream",
     "text": [
      "[[0. 0. 0.]\n",
      " [0. 0. 0.]\n",
      " [0. 0. 0.]]\n"
     ]
    }
   ],
   "source": [
    "zeros_array = np.zeros((3, 3))\n",
    "print(zeros_array)"
   ]
  },
  {
   "cell_type": "code",
   "execution_count": 16,
   "id": "98f0f96f-1110-4457-801c-ee85ec97a73a",
   "metadata": {},
   "outputs": [
    {
     "name": "stdout",
     "output_type": "stream",
     "text": [
      "[[1. 1. 1. 1.]\n",
      " [1. 1. 1. 1.]]\n"
     ]
    }
   ],
   "source": [
    "ones_array = np.ones((2, 4))\n",
    "print(ones_array)"
   ]
  },
  {
   "cell_type": "code",
   "execution_count": 18,
   "id": "285c26ec-bb49-483d-93f4-3a7f7b15771b",
   "metadata": {},
   "outputs": [
    {
     "name": "stdout",
     "output_type": "stream",
     "text": [
      "[0 2 4 6 8]\n"
     ]
    }
   ],
   "source": [
    "range_array = np.arange(0, 10, 2)  # Start, stop, step\n",
    "print(range_array)"
   ]
  },
  {
   "cell_type": "code",
   "execution_count": 20,
   "id": "39cf36ce-a981-4d41-a773-7b2737e39d4d",
   "metadata": {},
   "outputs": [
    {
     "name": "stdout",
     "output_type": "stream",
     "text": [
      "[[0.42505197 0.72732021 0.51075423]\n",
      " [0.31285931 0.9482401  0.19564776]\n",
      " [0.403919   0.81545658 0.98625305]]\n"
     ]
    }
   ],
   "source": [
    "random_array = np.random.rand(3, 3)\n",
    "print(random_array)"
   ]
  },
  {
   "cell_type": "code",
   "execution_count": null,
   "id": "aee83ca7-16dd-4839-a981-28cb88606907",
   "metadata": {},
   "outputs": [],
   "source": []
  }
 ],
 "metadata": {
  "kernelspec": {
   "display_name": "Python 3 (ipykernel)",
   "language": "python",
   "name": "python3"
  },
  "language_info": {
   "codemirror_mode": {
    "name": "ipython",
    "version": 3
   },
   "file_extension": ".py",
   "mimetype": "text/x-python",
   "name": "python",
   "nbconvert_exporter": "python",
   "pygments_lexer": "ipython3",
   "version": "3.12.4"
  }
 },
 "nbformat": 4,
 "nbformat_minor": 5
}
